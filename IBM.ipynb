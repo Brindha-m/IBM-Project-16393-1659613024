{
  "nbformat": 4,
  "nbformat_minor": 0,
  "metadata": {
    "colab": {
      "provenance": []
    },
    "kernelspec": {
      "name": "python3",
      "display_name": "Python 3"
    },
    "language_info": {
      "name": "python"
    }
  },
  "cells": [
    {
      "cell_type": "markdown",
      "source": [
        "**IBM Cloud Object Storage** : Data stored using COS option is encrypted and dispersed across multiple geographic locations. This data can be accessed over HTTP using a REST API."
      ],
      "metadata": {
        "id": "ff8KaqTtCoN_"
      }
    },
    {
      "cell_type": "code",
      "source": [
        "credentials = {\n",
        "  \"apikey\": \"r-PD4BRmbgNlU1mCvGz8u1Rah4BjQK5FRbht5SPQ8biZ\",\n",
        "  \"endpoints\": \"https://control.cloud-object-storage.cloud.ibm.com/v2/endpoints\",\n",
        "  \"iam_apikey_description\": \"Auto-generated for key crn:v1:bluemix:public:cloud-object-storage:global:a/50a9de02b229420993b4048109ed842f:df4f3d29-7cce-472f-8cb8-be3fdb61674b:resource-key:ed5df984-535e-4cfe-80be-d0c2e260a930\",\n",
        "  \"iam_apikey_name\": \"Sample Service credentials-1\",\n",
        "  \"iam_role_crn\": \"crn:v1:bluemix:public:iam::::serviceRole:Writer\",\n",
        "  \"iam_serviceid_crn\": \"crn:v1:bluemix:public:iam-identity::a/50a9de02b229420993b4048109ed842f::serviceid:ServiceId-b3173aea-5d3c-46a5-91fc-13b88de43e79\",\n",
        "  \"resource_instance_id\": \"crn:v1:bluemix:public:cloud-object-storage:global:a/50a9de02b229420993b4048109ed842f:df4f3d29-7cce-472f-8cb8-be3fdb61674b::\"\n",
        "}"
      ],
      "metadata": {
        "id": "Hmmf_y_pCslz"
      },
      "execution_count": null,
      "outputs": []
    },
    {
      "cell_type": "markdown",
      "source": [
        "**ibm_boto3** library provides complete access to the IBM® Cloud Object Storage API. "
      ],
      "metadata": {
        "id": "PVfkgckwDQjw"
      }
    },
    {
      "cell_type": "code",
      "source": [
        "from ibm_botocore.client import Config\n",
        "import ibm_boto3\n",
        "cos = ibm_boto3.client(service_name='s3',\n",
        "    ibm_api_key_id=credentials['IBM_API_KEY_ID'],\n",
        "    ibm_service_instance_id=credentials['IAM_SERVICE_ID'],\n",
        "    ibm_auth_endpoint=credentials['IBM_AUTH_ENDPOINT'],\n",
        "    config=Config(signature_version='oauth'),\n",
        "    endpoint_url=credentials['ENDPOINT'])"
      ],
      "metadata": {
        "id": "u7kF0zfvDLyC"
      },
      "execution_count": null,
      "outputs": []
    },
    {
      "cell_type": "markdown",
      "source": [
        "To upload file in COS, we will be using **upload_file** function. "
      ],
      "metadata": {
        "id": "Dx8qxTOxDXdL"
      }
    },
    {
      "cell_type": "code",
      "source": [
        "cos.upload_file(Filename='Wind Power Generation - deep wind.csv',Bucket=credentials['BUCKET'],Key='Wind Power Generation - deep wind.csv')"
      ],
      "metadata": {
        "id": "qS4ElO1xDbeg"
      },
      "execution_count": null,
      "outputs": []
    },
    {
      "cell_type": "markdown",
      "source": [],
      "metadata": {
        "id": "6dTALxuVD0He"
      }
    },
    {
      "cell_type": "code",
      "source": [
        "#Upload zip file\n",
        "cos.upload_file('wine.gz', credentials['BUCKET'],'wine.gz')\n",
        "#upload pickle object\n",
        "cos.upload_file('GB_Classification_model.pkl', credentials['BUCKET'],'GB_Classification_model.pkl')"
      ],
      "metadata": {
        "id": "tEs-wLOnD4x_"
      },
      "execution_count": null,
      "outputs": []
    },
    {
      "cell_type": "code",
      "source": [
        "from ibm_botocore.client import Config\n",
        "import ibm_boto3\n",
        "def upload_file_cos(credentials,local_file_name,key):  \n",
        "    cos = ibm_boto3.client(service_name='s3',\n",
        "    ibm_api_key_id=credentials['IBM_API_KEY_ID'],\n",
        "    ibm_service_instance_id=credentials['IAM_SERVICE_ID'],\n",
        "    ibm_auth_endpoint=credentials['IBM_AUTH_ENDPOINT'],\n",
        "    config=Config(signature_version='oauth'),\n",
        "    endpoint_url=credentials['ENDPOINT'])\n",
        "    try:\n",
        "        res=cos.upload_file(Filename=local_file_name, Bucket=credentials['BUCKET'],Key=key)\n",
        "    except Exception as e:\n",
        "        print(Exception, e)\n",
        "    else:\n",
        "        print('File Uploaded')"
      ],
      "metadata": {
        "id": "7hdZF1s-EIWc"
      },
      "execution_count": null,
      "outputs": []
    }
  ]
}